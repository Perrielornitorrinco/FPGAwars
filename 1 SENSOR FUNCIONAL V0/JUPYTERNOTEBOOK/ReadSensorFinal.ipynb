{
  "metadata": {
    "kernelspec": {
      "name": "python",
      "display_name": "Python (Pyodide)",
      "language": "python"
    },
    "language_info": {
      "codemirror_mode": {
        "name": "python",
        "version": 3
      },
      "file_extension": ".py",
      "mimetype": "text/x-python",
      "name": "python",
      "nbconvert_exporter": "python",
      "pygments_lexer": "ipython3",
      "version": "3.8"
    }
  },
  "nbformat_minor": 5,
  "nbformat": 4,
  "cells": [
    {
      "cell_type": "markdown",
      "source": "# Lectura sensor ABP2: Temperatura / Presión\n### Requisitos\n1. Colocar el .bit en la ruta indicada o cambiar la ruta (junto al .hwh con el mismo nombre)\n2. Conectar el sensor a las patillas del pmodB de la Pynq-Z2 según se indica a continuación:\n    - Pin 1: MISO\n    - Pin 2: MOSI\n    - Pin 3: CLK\n    - Pin 4: SS\n    - Pin 5: GND\n    - Pin 6: 3V",
      "metadata": {},
      "id": "487dd6e5-cd22-4de4-a617-cfc2aa214183"
    },
    {
      "cell_type": "code",
      "source": "from time import sleep\nfrom pynq import Overlay\nbase = Overlay(\"/home/xilinx/pynq/overlays/prueba2sensor/pmodioconFIFO/sensor.bit\")\nspi = base.axi_quad_spi_0",
      "metadata": {},
      "execution_count": 13,
      "outputs": [],
      "id": "81496344"
    },
    {
      "cell_type": "code",
      "source": "#!/usr/bin/python\n# Xilinx AXI quad SPI \n\n#from uio import Uio\nfrom pynq import MMIO\n# from ctypes import c_uint32\n#import time\n\n# SPI_regSpace = ol.ip_dict['axi_quad_spi_2']\n# IP_BASE_ADDRESS = SPI_regSpace['phys_addr']\n# IP_ADDRESS_RNGE = SPI_regSpace['addr_range']\n# AxiQspi = MMIO(IP_BASE_ADDRESS, IP_ADDRESS_RNGE)\n\nXSP_DGIER_OFFSET = 0x1C\nXSP_IISR_OFFSET = 0x20\nXSP_IIER_OFFSET = 0x28\nXSP_SRR_OFFSET = 0x40\nXSP_CR_OFFSET = 0x60\nXSP_SR_OFFSET = 0x64\nXSP_DTR_OFFSET = 0x68\nXSP_DRR_OFFSET = 0x6C\nXSP_SSR_OFFSET = 0x70\nXSP_TFO_OFFSET = 0x74\nXSP_RFO_OFFSET = 0x78\nXSP_REGISTERS = [0x40, 0x60, 0x64, 0x68, 0x6c, 0x70, 0x74, 0x78, 0x1c, 0x20, 0x28]\n\nXSP_SRR_RESET_MASK = 0x0A\nXSP_SR_TX_EMPTY_MASK = 0x00000004\nXSP_SR_TX_FULL_MASK\t= 0x00000008\nXSP_CR_TRANS_INHIBIT_MASK = 0x00000100\nXSP_CR_LOOPBACK_MASK\t= 0x00000001\nXSP_CR_ENABLE_MASK\t= 0x00000002\nXSP_CR_MASTER_MODE_MASK\t= 0x00000004\nXSP_CR_CLK_POLARITY_MASK = 0x00000008\nXSP_CR_CLK_PHASE_MASK\t= 0x00000010\nXSP_CR_TXFIFO_RESET_MASK = 0x00000020\nXSP_CR_RXFIFO_RESET_MASK = 0x00000040\nXSP_CR_MANUAL_SS_MASK\t= 0x00000080\nXSP_CR_TRANS_INHIBIT_MASK = 0x00000100\n\nSLAVE_NO_SELECTION = 0xFFFFFFFF\n\ndef cnfg(AxiQspi, clk_phase=0, clk_pol=0):\n\tprint(\"Configure device\")\n\tAxiQspi.write(XSP_SRR_OFFSET, XSP_SRR_RESET_MASK)\n\tAxiQspi.write(XSP_DGIER_OFFSET, 0)\n\tAxiQspi.write(XSP_SSR_OFFSET, SLAVE_NO_SELECTION)\n\tControlReg = AxiQspi.read(XSP_CR_OFFSET)\n\tControlReg = ControlReg | XSP_CR_MASTER_MODE_MASK | XSP_CR_MANUAL_SS_MASK | XSP_CR_ENABLE_MASK\n\tAxiQspi.write(XSP_CR_OFFSET, ControlReg)\n\tControlReg = AxiQspi.read(XSP_CR_OFFSET)\n\tif clk_phase == 1:\n\t\tControlReg = ControlReg | XSP_CR_CLK_PHASE_MASK\n\telse:\n\t\tControlReg = ControlReg & ~XSP_CR_CLK_PHASE_MASK\n\tif clk_pol == 1:\n\t\tControlReg = ControlReg | XSP_CR_CLK_POLARITY_MASK\n\telse:\n\t\tControlReg = ControlReg & ~XSP_CR_CLK_POLARITY_MASK\n\tAxiQspi.write(XSP_CR_OFFSET, ControlReg)\n\n\treturn 0\n\ndef xfer(packet, AxiQspi):\n\tresp = list()\n\tprint(\"TransferData\")\n\tfor data in packet:\n\t\tAxiQspi.write(XSP_DTR_OFFSET, data)\n\t\tAxiQspi.write(XSP_SSR_OFFSET, 0xFFFFFFFE)\n\t\tControlReg = AxiQspi.read(XSP_CR_OFFSET)\n\t\tControlReg = ControlReg & ~XSP_CR_TRANS_INHIBIT_MASK\n\t\tAxiQspi.write(XSP_CR_OFFSET, ControlReg)\n\n\t\tStatusReg = AxiQspi.read(XSP_SR_OFFSET)\n\t\twhile (StatusReg & XSP_SR_TX_EMPTY_MASK) == 0:\n\t\t\tprint(\"imbecil\")\n\t\t\tStatusReg = AxiQspi.read(XSP_SR_OFFSET)\n\n\t\tprint('XSP_RFO_OFFSET  : 0x{0:08x}'.format(AxiQspi.read(XSP_RFO_OFFSET)))\n\t\tControlReg = AxiQspi.read(XSP_CR_OFFSET)\n\t\tControlReg = ControlReg | XSP_CR_TRANS_INHIBIT_MASK\n\t\tAxiQspi.write(XSP_CR_OFFSET, ControlReg)\n\n\tAxiQspi.write(XSP_SSR_OFFSET, SLAVE_NO_SELECTION)\n\tsleep(1)\n\tprint(\"ReadResponse\")\n\tRxFifoStatus = AxiQspi.read(XSP_SR_OFFSET) & 0x01\n\twhile RxFifoStatus == 0:\n\t\tprint(\"imbecil\")\n\t\t#temp = AxiQspi.read(XSP_RFO_OFFSET)\n\t\t#print('XSP_RFO_OFFSET  : 0x{0:08x}'.format(temp))\n\t\ttemp = AxiQspi.read(XSP_DRR_OFFSET)\n\t\tprint('XSP_DRR_OFFSET  : 0x{0:08x}'.format(temp))    \n\t\tresp.append(temp)\n\t\tRxFifoStatus = AxiQspi.read(XSP_SR_OFFSET) & 0x01\n\treturn resp",
      "metadata": {},
      "execution_count": 14,
      "outputs": [],
      "id": "19c4c691"
    },
    {
      "cell_type": "code",
      "source": "cmd = [0xAA, 0x00, 0x00]\ndata = [0xFA, 0x00, 0x00,0x00,0x00,0x00,0X00]\npress_counts = 0\ntemp_counts = 0\npressure = 0\ntemperature = 0\noutputmax = 15099494\noutputmin = 1677722\npmax = 1\npmin = 0\n\n\ncnfg(spi)\nwhile(1):\n    cmdans = xfer(cmd, spi)\n    dataans = xfer(data, spi)\n\n    press_counts = dataans[3] + dataans[2] * 256 + dataans[1] * 65536\n    temp_counts = dataans[6] + dataans[5] * 256 + dataans[4] * 65536\n    temperature = (temp_counts * 200 / 16777215) - 50\n    percentage = (press_counts / 16777215) * 100\n    pressure = ((press_counts - outputmin) * (pmax - pmin)) / (outputmax - outputmin) + pmin\n\n    # Imprimir los resultados\n    print(\"Presión: {:.2f} bar\".format(pressure))\n    print(\"Temperatura: {:.2f} °C\".format(temperature))\n        ",
      "metadata": {
        "scrolled": true
      },
      "execution_count": 16,
      "outputs": [
        {
          "name": "stdout",
          "output_type": "stream",
          "text": "Configure device\n\nTransferData\n\nXSP_RFO_OFFSET  : 0x00000000\n\nXSP_RFO_OFFSET  : 0x00000001\n\nXSP_RFO_OFFSET  : 0x00000002\n\nReadResponse\n\nimbecil\n\nXSP_DRR_OFFSET  : 0x00000040\n\nimbecil\n\nXSP_DRR_OFFSET  : 0x00000080\n\nimbecil\n\nXSP_DRR_OFFSET  : 0x0000007e\n\nTransferData\n\nXSP_RFO_OFFSET  : 0x00000000\n\nXSP_RFO_OFFSET  : 0x00000001\n\nXSP_RFO_OFFSET  : 0x00000002\n\nXSP_RFO_OFFSET  : 0x00000003\n\nXSP_RFO_OFFSET  : 0x00000004\n\nXSP_RFO_OFFSET  : 0x00000005\n\nXSP_RFO_OFFSET  : 0x00000006\n\nReadResponse\n\nimbecil\n\nXSP_DRR_OFFSET  : 0x00000040\n\nimbecil\n\nXSP_DRR_OFFSET  : 0x00000080\n\nimbecil\n\nXSP_DRR_OFFSET  : 0x00000080\n\nimbecil\n\nXSP_DRR_OFFSET  : 0x00000012\n\nimbecil\n\nXSP_DRR_OFFSET  : 0x0000005a\n\nimbecil\n\nXSP_DRR_OFFSET  : 0x0000009d\n\nimbecil\n\nXSP_DRR_OFFSET  : 0x000000c2\n\nPresión: 0.50 bar\n\nTemperatura: 20.79 °C\n\nTransferData\n\nXSP_RFO_OFFSET  : 0x00000000\n\nXSP_RFO_OFFSET  : 0x00000001\n\nXSP_RFO_OFFSET  : 0x00000002\n\nReadResponse\n\nimbecil\n\nXSP_DRR_OFFSET  : 0x00000040\n\nimbecil\n\nXSP_DRR_OFFSET  : 0x00000080\n\nimbecil\n\nXSP_DRR_OFFSET  : 0x00000080\n\nTransferData\n\nXSP_RFO_OFFSET  : 0x00000000\n\nXSP_RFO_OFFSET  : 0x00000001\n\nXSP_RFO_OFFSET  : 0x00000002\n\nXSP_RFO_OFFSET  : 0x00000003\n\nXSP_RFO_OFFSET  : 0x00000004\n\nXSP_RFO_OFFSET  : 0x00000005\n\nXSP_RFO_OFFSET  : 0x00000006\n\nReadResponse\n\nimbecil\n\nXSP_DRR_OFFSET  : 0x00000040\n\nimbecil\n\nXSP_DRR_OFFSET  : 0x00000080\n\nimbecil\n\nXSP_DRR_OFFSET  : 0x0000007c\n\nimbecil\n\nXSP_DRR_OFFSET  : 0x00000008\n\nimbecil\n\nXSP_DRR_OFFSET  : 0x0000005a\n\nimbecil\n\nXSP_DRR_OFFSET  : 0x00000088\n\nimbecil\n\nXSP_DRR_OFFSET  : 0x000000c8\n\nPresión: 0.50 bar\n\nTemperatura: 20.73 °C\n\nTransferData\n\nXSP_RFO_OFFSET  : 0x00000000\n\nXSP_RFO_OFFSET  : 0x00000001\n\nXSP_RFO_OFFSET  : 0x00000002\n\nReadResponse\n\nimbecil\n\nXSP_DRR_OFFSET  : 0x00000040\n\nimbecil\n\nXSP_DRR_OFFSET  : 0x00000080\n\nimbecil\n\nXSP_DRR_OFFSET  : 0x0000007c\n\nTransferData\n\nXSP_RFO_OFFSET  : 0x00000000\n\nXSP_RFO_OFFSET  : 0x00000001\n\nXSP_RFO_OFFSET  : 0x00000002\n\nXSP_RFO_OFFSET  : 0x00000003\n\nXSP_RFO_OFFSET  : 0x00000004\n\nXSP_RFO_OFFSET  : 0x00000005\n\nXSP_RFO_OFFSET  : 0x00000006\n\nReadResponse\n\nimbecil\n\nXSP_DRR_OFFSET  : 0x00000040\n\nimbecil\n\nXSP_DRR_OFFSET  : 0x00000080\n\nimbecil\n\nXSP_DRR_OFFSET  : 0x0000007a\n\nimbecil\n\nXSP_DRR_OFFSET  : 0x000000cc\n\nimbecil\n\nXSP_DRR_OFFSET  : 0x0000005a\n\nimbecil\n\nXSP_DRR_OFFSET  : 0x00000081\n\nimbecil\n\nXSP_DRR_OFFSET  : 0x00000087\n\nPresión: 0.50 bar\n\nTemperatura: 20.71 °C\n\nTransferData\n\nXSP_RFO_OFFSET  : 0x00000000\n\nXSP_RFO_OFFSET  : 0x00000001\n\nXSP_RFO_OFFSET  : 0x00000002\n\nReadResponse\n\nimbecil\n\nXSP_DRR_OFFSET  : 0x00000040\n\nimbecil\n\nXSP_DRR_OFFSET  : 0x00000080\n\nimbecil\n\nXSP_DRR_OFFSET  : 0x0000007a\n\nTransferData\n\nXSP_RFO_OFFSET  : 0x00000000\n\nXSP_RFO_OFFSET  : 0x00000001\n\nXSP_RFO_OFFSET  : 0x00000002\n\nXSP_RFO_OFFSET  : 0x00000003\n\nXSP_RFO_OFFSET  : 0x00000004\n\nXSP_RFO_OFFSET  : 0x00000005\n\nXSP_RFO_OFFSET  : 0x00000006\n"
        },
        {
          "ename": "KeyboardInterrupt",
          "evalue": "",
          "output_type": "error",
          "traceback": [
            "\u001b[0;31m---------------------------------------------------------------------------\u001b[0m",
            "\u001b[0;31mKeyboardInterrupt\u001b[0m                         Traceback (most recent call last)",
            "Input \u001b[0;32mIn [16]\u001b[0m, in \u001b[0;36m<cell line: 14>\u001b[0;34m()\u001b[0m\n\u001b[1;32m     14\u001b[0m \u001b[38;5;28;01mwhile\u001b[39;00m(\u001b[38;5;241m1\u001b[39m):\n\u001b[1;32m     15\u001b[0m     cmdans \u001b[38;5;241m=\u001b[39m xfer(cmd, spi)\n\u001b[0;32m---> 16\u001b[0m     dataans \u001b[38;5;241m=\u001b[39m \u001b[43mxfer\u001b[49m\u001b[43m(\u001b[49m\u001b[43mdata\u001b[49m\u001b[43m,\u001b[49m\u001b[43m \u001b[49m\u001b[43mspi\u001b[49m\u001b[43m)\u001b[49m\n\u001b[1;32m     18\u001b[0m     press_counts \u001b[38;5;241m=\u001b[39m dataans[\u001b[38;5;241m3\u001b[39m] \u001b[38;5;241m+\u001b[39m dataans[\u001b[38;5;241m2\u001b[39m] \u001b[38;5;241m*\u001b[39m \u001b[38;5;241m256\u001b[39m \u001b[38;5;241m+\u001b[39m dataans[\u001b[38;5;241m1\u001b[39m] \u001b[38;5;241m*\u001b[39m \u001b[38;5;241m65536\u001b[39m\n\u001b[1;32m     19\u001b[0m     temp_counts \u001b[38;5;241m=\u001b[39m dataans[\u001b[38;5;241m6\u001b[39m] \u001b[38;5;241m+\u001b[39m dataans[\u001b[38;5;241m5\u001b[39m] \u001b[38;5;241m*\u001b[39m \u001b[38;5;241m256\u001b[39m \u001b[38;5;241m+\u001b[39m dataans[\u001b[38;5;241m4\u001b[39m] \u001b[38;5;241m*\u001b[39m \u001b[38;5;241m65536\u001b[39m\n",
            "Input \u001b[0;32mIn [14]\u001b[0m, in \u001b[0;36mxfer\u001b[0;34m(packet, AxiQspi)\u001b[0m\n\u001b[1;32m     82\u001b[0m \tAxiQspi\u001b[38;5;241m.\u001b[39mwrite(XSP_CR_OFFSET, ControlReg)\n\u001b[1;32m     84\u001b[0m AxiQspi\u001b[38;5;241m.\u001b[39mwrite(XSP_SSR_OFFSET, SLAVE_NO_SELECTION)\n\u001b[0;32m---> 85\u001b[0m \u001b[43msleep\u001b[49m\u001b[43m(\u001b[49m\u001b[38;5;241;43m1\u001b[39;49m\u001b[43m)\u001b[49m\n\u001b[1;32m     86\u001b[0m \u001b[38;5;28mprint\u001b[39m(\u001b[38;5;124m\"\u001b[39m\u001b[38;5;124mReadResponse\u001b[39m\u001b[38;5;124m\"\u001b[39m)\n\u001b[1;32m     87\u001b[0m RxFifoStatus \u001b[38;5;241m=\u001b[39m AxiQspi\u001b[38;5;241m.\u001b[39mread(XSP_SR_OFFSET) \u001b[38;5;241m&\u001b[39m \u001b[38;5;241m0x01\u001b[39m\n",
            "\u001b[0;31mKeyboardInterrupt\u001b[0m: "
          ]
        }
      ],
      "id": "dbf15183"
    }
  ]
}