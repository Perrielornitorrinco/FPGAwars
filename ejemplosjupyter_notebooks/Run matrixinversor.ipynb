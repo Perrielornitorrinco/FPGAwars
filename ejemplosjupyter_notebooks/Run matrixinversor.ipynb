{
 "cells": [
  {
   "cell_type": "code",
   "execution_count": 1,
   "id": "e7e6958f",
   "metadata": {},
   "outputs": [
    {
     "data": {
      "application/javascript": [
       "\n",
       "try {\n",
       "require(['notebook/js/codecell'], function(codecell) {\n",
       "  codecell.CodeCell.options_default.highlight_modes[\n",
       "      'magic_text/x-csrc'] = {'reg':[/^%%microblaze/]};\n",
       "  Jupyter.notebook.events.one('kernel_ready.Kernel', function(){\n",
       "      Jupyter.notebook.get_cells().map(function(cell){\n",
       "          if (cell.cell_type == 'code'){ cell.auto_highlight(); } }) ;\n",
       "  });\n",
       "});\n",
       "} catch (e) {};\n"
      ]
     },
     "metadata": {},
     "output_type": "display_data"
    },
    {
     "data": {
      "application/javascript": [
       "\n",
       "try {\n",
       "require(['notebook/js/codecell'], function(codecell) {\n",
       "  codecell.CodeCell.options_default.highlight_modes[\n",
       "      'magic_text/x-csrc'] = {'reg':[/^%%pybind11/]};\n",
       "  Jupyter.notebook.events.one('kernel_ready.Kernel', function(){\n",
       "      Jupyter.notebook.get_cells().map(function(cell){\n",
       "          if (cell.cell_type == 'code'){ cell.auto_highlight(); } }) ;\n",
       "  });\n",
       "});\n",
       "} catch (e) {};\n"
      ]
     },
     "metadata": {},
     "output_type": "display_data"
    }
   ],
   "source": [
    "from pynq import Overlay\n",
    "import os\n",
    "\n",
    "overlay = Overlay('/home/xilinx/pynq/overlays/matrixinv/matrixinv.bit')"
   ]
  },
  {
   "cell_type": "code",
   "execution_count": 2,
   "id": "b30213e3",
   "metadata": {},
   "outputs": [],
   "source": [
    "overlay?"
   ]
  },
  {
   "cell_type": "code",
   "execution_count": 3,
   "id": "1176e3d8",
   "metadata": {},
   "outputs": [],
   "source": [
    "add_ip = overlay.matrixinv\n",
    "add_ip?"
   ]
  },
  {
   "cell_type": "code",
   "execution_count": 6,
   "id": "c6599392",
   "metadata": {},
   "outputs": [
    {
     "data": {
      "text/plain": [
       "0"
      ]
     },
     "execution_count": 6,
     "metadata": {},
     "output_type": "execute_result"
    }
   ],
   "source": [
    "add_ip.write(0x10, 1) #a\n",
    "add_ip.write(0x18, 2) #b\n",
    "add_ip.write(0x20, 3) #c\n",
    "add_ip.write(0x28, 4) #d\n",
    "add_ip.write(0x30, 5) #e\n",
    "add_ip.write(0x38, 6) #f\n",
    "add_ip.write(0x40, 7) #g\n",
    "add_ip.write(0x48, 8) #h\n",
    "add_ip.write(0x50, 9) #i\n",
    "add_ip.read(0x58) #result"
   ]
  },
  {
   "cell_type": "code",
   "execution_count": 19,
   "id": "a5fb816f",
   "metadata": {},
   "outputs": [],
   "source": [
    "from pynq import DefaultIP\n",
    "\n",
    "class MatrixinvDriver(DefaultIP):\n",
    "    def __init__(self, description):\n",
    "        super().__init__(description=description)\n",
    "\n",
    "    bindto = ['xilinx.com:hls:matrixinv:1.0']\n",
    "\n",
    "    def matrixinv(self, a, b, c, d, e, f, g, h, i):\n",
    "        self.write(0x10, a)\n",
    "        self.write(0x18, b)\n",
    "        self.write(0x20, c)\n",
    "        self.write(0x28, d)\n",
    "        self.write(0x30, e)\n",
    "        self.write(0x38, f)\n",
    "        self.write(0x40, g)\n",
    "        self.write(0x48, h)\n",
    "        self.write(0x50, i)\n",
    "        return self.read(0x58)"
   ]
  },
  {
   "cell_type": "code",
   "execution_count": 20,
   "id": "9a42d68b",
   "metadata": {},
   "outputs": [],
   "source": [
    "overlay = Overlay('/home/xilinx/pynq/overlays/matrixinv/matrixinv.bit')\n",
    "overlay?"
   ]
  },
  {
   "cell_type": "code",
   "execution_count": 22,
   "id": "54980d45",
   "metadata": {},
   "outputs": [
    {
     "data": {
      "text/plain": [
       "1"
      ]
     },
     "execution_count": 22,
     "metadata": {},
     "output_type": "execute_result"
    }
   ],
   "source": [
    "overlay.matrixinv.matrixinv(1,2,3,4,5,4,7,8,9)"
   ]
  },
  {
   "cell_type": "code",
   "execution_count": null,
   "id": "18221d8e",
   "metadata": {},
   "outputs": [],
   "source": []
  }
 ],
 "metadata": {
  "kernelspec": {
   "display_name": "Python 3 (ipykernel)",
   "language": "python",
   "name": "python3"
  },
  "language_info": {
   "codemirror_mode": {
    "name": "ipython",
    "version": 3
   },
   "file_extension": ".py",
   "mimetype": "text/x-python",
   "name": "python",
   "nbconvert_exporter": "python",
   "pygments_lexer": "ipython3",
   "version": "3.10.4"
  }
 },
 "nbformat": 4,
 "nbformat_minor": 5
}
